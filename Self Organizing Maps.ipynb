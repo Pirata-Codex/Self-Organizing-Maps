{
 "cells": [
  {
   "cell_type": "markdown",
   "metadata": {},
   "source": [
    "## In the name of God\n",
    "## Artificial Neural Network\n",
    "## Kohonen Self Organizing Map Implementaion\n",
    "## Teacher: Dr. Vasighi\n",
    "## Teaching Asisstant: Mrs. Moghadam\n",
    "## Reza Khaleghi\n",
    "## Sarina Danaei"
   ]
  },
  {
   "cell_type": "markdown",
   "metadata": {},
   "source": [
    "Importing required packages and libraries"
   ]
  },
  {
   "cell_type": "code",
   "execution_count": 1,
   "metadata": {},
   "outputs": [],
   "source": [
    "# The only package required to implement the method\n",
    "import numpy as np\n",
    "\n",
    "# Normalize the data attributes for the Iris dataset.\n",
    "from sklearn.datasets import load_iris\n",
    "from sklearn import preprocessing\n",
    "from sklearn.model_selection import train_test_split"
   ]
  },
  {
   "cell_type": "markdown",
   "metadata": {},
   "source": [
    "### INPUTS"
   ]
  },
  {
   "cell_type": "markdown",
   "metadata": {},
   "source": [
    "> Here you can set the parameters as you want\n",
    "<br>`n` as number of neurons\n",
    "<br>`epoch` how many epochs does it need to take\n",
    "<br>`lr` setting the initial learning rate"
   ]
  },
  {
   "cell_type": "code",
   "execution_count": 2,
   "metadata": {},
   "outputs": [],
   "source": [
    "n = 6 # Number of Neurons. The network will work with even numbers due to it's 2D intrinsic\n",
    "epoch = 100 # Number of epochs\n",
    "lr = 0.8 # initial learning rate"
   ]
  },
  {
   "cell_type": "markdown",
   "metadata": {},
   "source": [
    "Determining the dimensions of our single layer 2d network"
   ]
  },
  {
   "cell_type": "markdown",
   "metadata": {},
   "source": [
    "<div class=\"alert alert-block alert-info\">\n",
    "    <b>Note:</b>  It's <u>recommended</u> to use <b>even numbers</b> for the number of neurons\n",
    "</div>"
   ]
  },
  {
   "cell_type": "code",
   "execution_count": 3,
   "metadata": {},
   "outputs": [],
   "source": [
    "_1d = int(np.ceil(np.sqrt(n)))\n",
    "_2d = int(np.fix(np.sqrt(n)))"
   ]
  },
  {
   "cell_type": "markdown",
   "metadata": {},
   "source": [
    "### Import your dataset here\n",
    "<br><b>Define parameters as below:</b>\n",
    ">1. `FEATURES`: Number of features for each row\n",
    "- Split your dataset into data and labels (<b>Note that this is not supervised, we only want to check whether it has predicted "
   ]
  },
  {
   "cell_type": "code",
   "execution_count": 4,
   "metadata": {},
   "outputs": [
    {
     "name": "stdout",
     "output_type": "stream",
     "text": [
      "(150, 4)\n"
     ]
    }
   ],
   "source": [
    "# load the iris dataset\n",
    "iris = load_iris()\n",
    "print(iris.data.shape)\n",
    "# Number of features\n",
    "FEATURES = iris.data.shape[1]\n",
    "# separate the data from the target attributes\n",
    "X = iris.data\n",
    "y = iris.target\n",
    "# normalize the data attributes\n",
    "normalized_X = preprocessing.normalize(X)\n",
    "\n",
    "# Splitting into train and test. Just to make sure that model works just fine with new data\n",
    "X_train, X_test, y_train, y_test = train_test_split(normalized_X, y, test_size = 0.2, random_state = 0)"
   ]
  },
  {
   "cell_type": "markdown",
   "metadata": {},
   "source": [
    "<b>The gaussian distribution:</b>\n",
    "<br>In this project we have used gaussian distribution for our Neighbor function. "
   ]
  },
  {
   "cell_type": "markdown",
   "metadata": {},
   "source": [
    "## $$ f(net) = \\frac{1}{\\sigma + \\sqrt{2 \\pi}} e^{\\left(-\\frac{{\\left(\\mu - x\\right)}^{2}}{2 \\, \\sigma^{2}}\\right)}$$"
   ]
  },
  {
   "cell_type": "code",
   "execution_count": 5,
   "metadata": {},
   "outputs": [],
   "source": [
    "def gaussian(x, mu, sig):\n",
    "    return np.exp(-np.power(x - mu, 2.) / (2 * np.power(sig, 2.)))"
   ]
  },
  {
   "cell_type": "code",
   "execution_count": 6,
   "metadata": {},
   "outputs": [
    {
     "data": {
      "image/png": "[encoded data removed]",
      "text/plain": [
       "<Figure size 432x288 with 1 Axes>"
      ]
     },
     "metadata": {
      "needs_background": "light"
     },
     "output_type": "display_data"
    }
   ],
   "source": [
    "import pylab as plt # to plot\n",
    "x = plt.linspace(-5,5,100)\n",
    "mu = 0\n",
    "variance = 1\n",
    "sigma = np.sqrt(variance)\n",
    "plt.plot(x, gaussian(x,mu,sigma))\n",
    "plt.grid()\n",
    "plt.title('Gaussian Function')\n",
    "ltx = '$ f(net) = \\\\frac{1}{ \\\\sigma' + \\\n",
    " '\\\\sqrt{2 \\\\pi}} e^{\\\\left(-\\\\frac{{\\\\left(\\\\mu - ' + \\\n",
    " 'x\\\\right)}^{2}}{2 \\\\, \\\\sigma^{2}}\\\\right)}$'\n",
    "plt.text(5.5, 0, ltx, fontsize=20)\n",
    "plt.show()"
   ]
  },
  {
   "cell_type": "markdown",
   "metadata": {},
   "source": [
    "Since the distances in neighbor function are positive so we only save the positive data"
   ]
  },
  {
   "cell_type": "code",
   "execution_count": 7,
   "metadata": {},
   "outputs": [],
   "source": [
    "mu = 0\n",
    "rng = max(_1d,_2d)\n",
    "vec = np.arange(rng)\n",
    "var = np.var(vec)\n",
    "sigma = np.sqrt(var)"
   ]
  },
  {
   "cell_type": "markdown",
   "metadata": {},
   "source": [
    "<b>`Winner_index`:</b>\n",
    "<br>This function only gives us the indecies of the winner neuron in the matrix"
   ]
  },
  {
   "cell_type": "code",
   "execution_count": 8,
   "metadata": {},
   "outputs": [],
   "source": [
    "def winner_index(dot):\n",
    "    argmax = (-1,-1)\n",
    "    temp = -100\n",
    "    for i in range(len(dot)):\n",
    "        for j in range(len(dot[0])):\n",
    "            if (temp < dot[i,j]):\n",
    "                argmax = (i,j)\n",
    "                temp = dot[i,j]\n",
    "    return argmax"
   ]
  },
  {
   "cell_type": "markdown",
   "metadata": {},
   "source": [
    "<b>Update function:"
   ]
  },
  {
   "cell_type": "markdown",
   "metadata": {},
   "source": [
    "## $$ w_{ji}^{new} = w_{ji}^{old} + \\eta(t) d(c-j,t)(X_{Si}-w_{ji}^{old}) $$"
   ]
  },
  {
   "cell_type": "code",
   "execution_count": 9,
   "metadata": {},
   "outputs": [],
   "source": [
    "def update(weights, max_, input_):\n",
    "    Diff_matrix = input_ - weights\n",
    "    for i in range(len(weights)):\n",
    "        for j in range(len(weights[0])):\n",
    "            d = max(abs(i-max_[0]), abs(j-max_[1]))\n",
    "            neigh = gaussian(d,mu,sigma)\n",
    "            #print(\"was\",new_weight[i,j],end=' ')\n",
    "            weights[i,j] = weights[i,j] + (lr * neigh * (Diff_matrix[i,j]))\n",
    "            #print(\"now\",new_weight[i,j])\n",
    "    weights = np.round(weights,decimals = 4)\n",
    "    #print(weights[0])\n",
    "    return weights"
   ]
  },
  {
   "cell_type": "code",
   "execution_count": 10,
   "metadata": {},
   "outputs": [],
   "source": [
    "# Initializing random weight for each neuron\n",
    "weight = np.round(np.random.rand(_1d, _2d, FEATURES), decimals=1)"
   ]
  },
  {
   "cell_type": "markdown",
   "metadata": {},
   "source": [
    "### Optimizing Network"
   ]
  },
  {
   "cell_type": "code",
   "execution_count": 11,
   "metadata": {},
   "outputs": [],
   "source": [
    "for ep in range(epoch):\n",
    "    # Do this for every input from our train\n",
    "    for d in X_train:\n",
    "        # inner product of input d to the weight matrix\n",
    "        dot = np.dot(weight,d)\n",
    "        # we are looking for the max one\n",
    "        max_ = winner_index(dot)\n",
    "        # After finding the max one, as in theory, we update the weights \n",
    "        # regarding to change in neighbor func as we go further\n",
    "        weight = update(weight, max_, d)\n",
    "    # Reducing learning rate as we pass an epoch\n",
    "    lr *= (1 - 1 / ((epoch-ep)+1))"
   ]
  },
  {
   "cell_type": "code",
   "execution_count": 12,
   "metadata": {},
   "outputs": [
    {
     "data": {
      "text/plain": [
       "array([[[0.7305, 0.3445, 0.5481, 0.1861],\n",
       "        [0.7285, 0.339 , 0.5566, 0.1894]],\n",
       "\n",
       "       [[0.7527, 0.4051, 0.452 , 0.1403],\n",
       "        [0.7527, 0.4051, 0.452 , 0.1403]],\n",
       "\n",
       "       [[0.797 , 0.5249, 0.2631, 0.0513],\n",
       "        [0.7906, 0.5076, 0.2915, 0.0647]]])"
      ]
     },
     "execution_count": 12,
     "metadata": {},
     "output_type": "execute_result"
    }
   ],
   "source": [
    "# Final weights\n",
    "weight"
   ]
  },
  {
   "cell_type": "markdown",
   "metadata": {},
   "source": [
    "## TOPOGRAPHIC  MAP"
   ]
  },
  {
   "cell_type": "code",
   "execution_count": 13,
   "metadata": {},
   "outputs": [],
   "source": [
    "Train_Top_Map = [[[] for x in range(_2d)] for y in range(_1d)]\n",
    "Train_ct = [[[] for x in range(_2d)] for y in range(_1d)] # for grouping data indices for each neuron by their labels"
   ]
  },
  {
   "cell_type": "code",
   "execution_count": 14,
   "metadata": {},
   "outputs": [],
   "source": [
    "# Checking the network with new data to see how it works\n",
    "for index in range(len(X_train)):\n",
    "    # initializing pivot for calculating euclidean distance\n",
    "    pivot = 9999\n",
    "    min_ = (-1, -1)\n",
    "    for i in range(len(weight)):\n",
    "        for j in range(len(weight[0])):\n",
    "            dist = 0\n",
    "            for k in range(len(weight[i,j])):\n",
    "                # euclidean distance\n",
    "                dist += pow((X_train[index][k] - weight[i, j, k]), 2)\n",
    "            # If we have a lower value than before then save it\n",
    "            if dist < pivot:\n",
    "                min_ = (i, j)\n",
    "                pivot = dist\n",
    "    # Adding the data index to the nearest neuron\n",
    "    Train_Top_Map[min_[0]][min_[1]].append(index)"
   ]
  },
  {
   "cell_type": "code",
   "execution_count": 15,
   "metadata": {},
   "outputs": [
    {
     "name": "stdout",
     "output_type": "stream",
     "text": [
      "================= Topographic Map =================\n",
      "[5, 8, 9, 15, 20, 22, 23, 28, 30, 33, 35, 36, 41, 44, 51, 79, 82, 85, 87, 97, 98, 105, 109, 110, 117]                                                       \t[0, 1, 3, 4, 7, 10, 12, 16, 17, 18, 19, 21, 24, 25, 26, 27, 29, 32, 37, 40, 46, 49, 50, 53, 54, 55, 56, 59, 60, 62, 64, 65, 68, 72, 73, 74, 78, 84, 86, 89, 91, 94, 96, 100, 101, 102, 103, 106, 107, 111, 112, 116, 118]\n",
      "[34, 47, 99]                                                                                                                                                \t[]                                                                                                                                                                                                                       \n",
      "[2, 6, 11, 13, 14, 31, 38, 39, 42, 43, 45, 48, 52, 57, 58, 63, 66, 67, 69, 70, 71, 75, 76, 77, 80, 81, 83, 88, 90, 92, 93, 95, 104, 108, 113, 114, 115, 119]\t[61]                                                                                                                                                                                                                     \n",
      "===================================================\n"
     ]
    }
   ],
   "source": [
    "print(\"================= Topographic Map =================\")\n",
    "s = [[str(e) for e in row] for row in Train_Top_Map]\n",
    "lens = [max(map(len, col)) for col in zip(*s)]\n",
    "fmt = '\\t'.join('{{:{}}}'.format(x) for x in lens)\n",
    "table = [fmt.format(*row) for row in s]\n",
    "print ('\\n'.join(table))\n",
    "print(\"===================================================\")"
   ]
  },
  {
   "cell_type": "markdown",
   "metadata": {},
   "source": [
    "<b>Let's group these data indices by their labels"
   ]
  },
  {
   "cell_type": "code",
   "execution_count": 16,
   "metadata": {},
   "outputs": [],
   "source": [
    "for i in range(len(Train_Top_Map)):\n",
    "    for j in range(len(Train_Top_Map[i])):\n",
    "        #print(splitted)\n",
    "        if Train_Top_Map[i][j] != []:\n",
    "            for label in (np.unique(y_train)):\n",
    "                label_set = np.where(y_train == label)[0]\n",
    "                c = 0\n",
    "                for k in Train_Top_Map[i][j]:\n",
    "                    if k in label_set:\n",
    "                        c += 1\n",
    "                Train_ct[i][j].append(c)"
   ]
  },
  {
   "cell_type": "code",
   "execution_count": 17,
   "metadata": {},
   "outputs": [
    {
     "name": "stdout",
     "output_type": "stream",
     "text": [
      "================== Accuracy Map ===================\n",
      "[0, 25, 0]\t[0, 9, 44]\n",
      "[0, 3, 0] \t[]        \n",
      "[38, 0, 0]\t[1, 0, 0] \n",
      "\n",
      "Format:\n",
      "[ <Class #No.> <Class #No.> <Class #No.>  ]\n",
      "For example for the top left neuron:\n",
      "It has 0 numbers of label 0\n",
      "It has 25 numbers of label 1\n",
      "It has 0 numbers of label 2\n",
      "===================================================\n"
     ]
    }
   ],
   "source": [
    "print(\"================== Accuracy Map ===================\")\n",
    "s = [[str(e) for e in row] for row in Train_ct]\n",
    "lens = [max(map(len, col)) for col in zip(*s)]\n",
    "fmt = '\\t'.join('{{:{}}}'.format(x) for x in lens)\n",
    "table = [fmt.format(*row) for row in s]\n",
    "print ('\\n'.join(table))\n",
    "print(\"\\nFormat:\")\n",
    "print(\"[\",\"<Class #No.> \" * len(np.unique(y)),\"]\")\n",
    "print(\"For example for the top left neuron:\")\n",
    "for i in range(len(Train_ct[0][0])):\n",
    "    print(\"It has\", Train_ct[0][0][i], \"numbers of label\",i)\n",
    "print(\"===================================================\")"
   ]
  },
  {
   "cell_type": "markdown",
   "metadata": {},
   "source": [
    "## Using Test set. just out of curiosity"
   ]
  },
  {
   "cell_type": "code",
   "execution_count": 18,
   "metadata": {},
   "outputs": [],
   "source": [
    "Top_Map = [[[] for x in range(_2d)] for y in range(_1d)]\n",
    "ct = [[[] for x in range(_2d)] for y in range(_1d)] # for grouping data indices for each neuron by their labels"
   ]
  },
  {
   "cell_type": "code",
   "execution_count": 19,
   "metadata": {},
   "outputs": [],
   "source": [
    "# Checking the network with new data to see how it works\n",
    "for index in range(len(X_test)):\n",
    "    # initializing pivot for calculating euclidean distance\n",
    "    pivot = 9999\n",
    "    min_ = (-1, -1)\n",
    "    for i in range(len(weight)):\n",
    "        for j in range(len(weight[0])):\n",
    "            dist = 0\n",
    "            for k in range(len(weight[i,j])):\n",
    "                # euclidean distance\n",
    "                dist += pow((X_test[index][k] - weight[i, j, k]), 2)\n",
    "            # If we have a lower value than before then save it\n",
    "            if dist < pivot:\n",
    "                min_ = (i, j)\n",
    "                pivot = dist\n",
    "    # Adding the data index to the nearest neuron\n",
    "    Top_Map[min_[0]][min_[1]].append(index)"
   ]
  },
  {
   "cell_type": "code",
   "execution_count": 20,
   "metadata": {},
   "outputs": [
    {
     "name": "stdout",
     "output_type": "stream",
     "text": [
      "================= Topographic Map =================\n",
      "[1, 7, 8, 9, 11, 12, 13, 14, 16, 21, 27, 28]\t[0, 3, 5, 10, 17, 20, 24]\n",
      "[]                                          \t[]                       \n",
      "[2, 4, 6, 15, 18, 19, 23, 25, 26, 29]       \t[22]                     \n",
      "===================================================\n"
     ]
    }
   ],
   "source": [
    "print(\"================= Topographic Map =================\")\n",
    "s = [[str(e) for e in row] for row in Top_Map]\n",
    "lens = [max(map(len, col)) for col in zip(*s)]\n",
    "fmt = '\\t'.join('{{:{}}}'.format(x) for x in lens)\n",
    "table = [fmt.format(*row) for row in s]\n",
    "print ('\\n'.join(table))\n",
    "print(\"===================================================\")"
   ]
  },
  {
   "cell_type": "markdown",
   "metadata": {},
   "source": [
    "Just checking how much of a class are set for a neuron to estimate how network well performed"
   ]
  },
  {
   "cell_type": "code",
   "execution_count": 21,
   "metadata": {},
   "outputs": [],
   "source": [
    "for i in range(len(Top_Map)):\n",
    "    for j in range(len(Top_Map[i])):\n",
    "        #print(splitted)\n",
    "        if Top_Map[i][j] != []:\n",
    "            for label in (np.unique(y_test)):\n",
    "                label_set = np.where(y_test == label)[0]\n",
    "                c = 0\n",
    "                for k in Top_Map[i][j]:\n",
    "                    if k in label_set:\n",
    "                        c += 1\n",
    "                ct[i][j].append(c)"
   ]
  },
  {
   "cell_type": "code",
   "execution_count": 22,
   "metadata": {},
   "outputs": [
    {
     "name": "stdout",
     "output_type": "stream",
     "text": [
      "================== Accuracy Map ===================\n",
      "[0, 12, 0]\t[0, 1, 6]\n",
      "[]        \t[]       \n",
      "[10, 0, 0]\t[1, 0, 0]\n",
      "\n",
      "Format:\n",
      "[ <Class #No.> <Class #No.> <Class #No.>  ]\n",
      "For example for the top left neuron:\n",
      "It has 0 numbers of label 0\n",
      "It has 12 numbers of label 1\n",
      "It has 0 numbers of label 2\n",
      "===================================================\n"
     ]
    }
   ],
   "source": [
    "print(\"================== Accuracy Map ===================\")\n",
    "s = [[str(e) for e in row] for row in ct]\n",
    "lens = [max(map(len, col)) for col in zip(*s)]\n",
    "fmt = '\\t'.join('{{:{}}}'.format(x) for x in lens)\n",
    "table = [fmt.format(*row) for row in s]\n",
    "print ('\\n'.join(table))\n",
    "print(\"\\nFormat:\")\n",
    "print(\"[\",\"<Class #No.> \" * len(np.unique(y)),\"]\")\n",
    "print(\"For example for the top left neuron:\")\n",
    "for i in range(len(ct[0][0])):\n",
    "    print(\"It has\", ct[0][0][i], \"numbers of label\",i)\n",
    "print(\"===================================================\")"
   ]
  },
  {
   "cell_type": "markdown",
   "metadata": {},
   "source": [
    "### Comparison to check performance"
   ]
  },
  {
   "cell_type": "code",
   "execution_count": 23,
   "metadata": {},
   "outputs": [
    {
     "name": "stdout",
     "output_type": "stream",
     "text": [
      "[ 0 13  0] [ 0  8 38] \n",
      "[0 3 0] [] \n",
      "[28  0  0] [0 0 0] \n"
     ]
    }
   ],
   "source": [
    "# Since bot Train_ct and ct have same indices we can define one to iterate in two\n",
    "for i in range(len(ct)):\n",
    "    for j in range(len(ct[i])):\n",
    "        # [#,...,#] - [#,...,#] -> [#,...,#] - [#,...,#]\n",
    "        if Train_ct[i][j] != [] and ct[i][j] != []:\n",
    "            print((np.array(Train_ct[i][j]) - np.array(ct[i][j])), end = ' ')\n",
    "        # [#,...,#] - [] -> [#,...,#] - [0,...,0] \n",
    "        elif Train_ct[i][j] != [] and ct[i][j] == []:\n",
    "            print(np.array(Train_ct[i][j]), end = ' ')\n",
    "        # [] - [#,...,#] -> [0,...0] - [#,...,#]\n",
    "        elif Train_ct[i][j] == [] and ct[i][j] != []:\n",
    "            print((np.full(len(np.unique(y)),0) - np.array(ct[i][j])), end = ' ')\n",
    "        # [] - [] -> []\n",
    "        else:\n",
    "            print([],end=' ')\n",
    "    print()"
   ]
  },
  {
   "cell_type": "markdown",
   "metadata": {},
   "source": [
    "#### `negative` values refers to misclassification based on trained model"
   ]
  },
  {
   "cell_type": "code",
   "execution_count": null,
   "metadata": {},
   "outputs": [],
   "source": []
  }
 ],
 "metadata": {
  "kernelspec": {
   "display_name": "Python 3",
   "language": "python",
   "name": "python3"
  },
  "language_info": {
   "codemirror_mode": {
    "name": "ipython",
    "version": 3
   },
   "file_extension": ".py",
   "mimetype": "text/x-python",
   "name": "python",
   "nbconvert_exporter": "python",
   "pygments_lexer": "ipython3",
   "version": "3.7.6"
  }
 },
 "nbformat": 4,
 "nbformat_minor": 4
}
